{
 "cells": [
  {
   "cell_type": "markdown",
   "metadata": {
    "id": "knwUNeCsQ0wq"
   },
   "source": [
    "# Tutorial session: nonlinear MPC\n",
    "In this tutorial session, we will build and test an MPC controller for an autonomously driving vehicle.\n",
    "\n",
    "We will first implement some simple, yet nonlinear vehicle dynamics as a \n",
    "system of ordinary differential equations. We will implement two widely used numerical integration schemes, which will result in a discrete-time dynamical system, which we can use to design our controller. \n",
    "\n",
    "Then, we will build the optimal control problem and experiment with some different variants -- first in a simple case without any nonlinear constraints, and then extending the setting to a full parking maneuver with obstacle avoidance constraints.\n",
    "\n",
    "## About the solver \n",
    "\n",
    "Before we start with the tutorial, a quick word on the solver. \n",
    "\n",
    "You will not need to implement any optimization solver in this session. To solve our online optimization problems, we will be using an efficient C++ implementation of the **Augmented Lagrangian method** using **PANOC** as an inner solver. The software for this solver is *open source* and available on [Github](https://github.com/tttapa/PANOC-ALM). \n",
    "\n",
    "<div class=\"alert alert-info\">\n",
    "The solver is currently still in pre-release and the API is still subject to change! If you are interested in using the code in your own work, make sure to <i>watch</i> the <a href=\"https://github.com/tttapa/PANOC-ALM\">Repository</a> to stay up-to-date with the latest developments.\n",
    "</div>\n",
    "\n",
    "\n",
    "\n",
    "### See also\n",
    "\n",
    "If you are interested in using this or a similar solver for your own work, we can additionally refer you to some related pages. \n",
    "\n",
    "- [**OpEn**](https://alphaville.github.io/optimization-engine/) [Rust](https://www.rust-lang.org/)-based implementation of PANOC + ALM with an emphasis on MPC for embedded devices. See also [Opengen](https://alphaville.github.io/optimization-engine/docs/python-interface), a collection of Python bindings that make it easy to use OpEn in your Python prototyping environment.  \n",
    "- [**OPTEC**](https://github.com/kul-optec) `OPTEC` is the collective name for our research group. The equally named Github organisation is where we release the code for custom solvers, which are focused on efficient, even real-time optimization, possibly under stringent hardware constraints. \n",
    "- [**CasADi**](https://web.casadi.org/) Optimization modelling tool/Automatic differentiation engine. This library is a available for Python, MATLAB, and C++ and is a very useful tool to quickly construct optimization problems using symbolic variables. It interfaces with a lot of commonly used optimization solvers, including our own. "
   ]
  },
  {
   "cell_type": "markdown",
   "metadata": {},
   "source": [
    "## Setting up the environment\n",
    "\n",
    "Now it's time to get started with the actual tutorial\n",
    "\n",
    "### Install and import dependencies\n",
    "To get started, we will first install the pre-built version of the [`panocpy`](https://github.com/tttapa/PANOC-ALM) library which we will be using."
   ]
  },
  {
   "cell_type": "code",
   "execution_count": null,
   "metadata": {
    "colab": {
     "base_uri": "https://localhost:8080/"
    },
    "id": "XZGGTmYIRj8t",
    "outputId": "9086498d-9e1e-487f-fec2-8e6ea4ab8816"
   },
   "outputs": [],
   "source": [
    "! pip install panocpy*.whl"
   ]
  },
  {
   "cell_type": "markdown",
   "metadata": {
    "id": "FefnYQkuUX6R"
   },
   "source": [
    "With this, we should have all the necessary dependencies available for import: "
   ]
  },
  {
   "cell_type": "code",
   "execution_count": null,
   "metadata": {
    "id": "Sh0cazLZQ0wt"
   },
   "outputs": [],
   "source": [
    "%matplotlib inline\n",
    "import numpy as np\n",
    "import casadi as cs \n",
    "import matplotlib.pyplot as plt \n",
    "import utilities"
   ]
  },
  {
   "cell_type": "markdown",
   "metadata": {
    "id": "CT1iaHkhQ0wu"
   },
   "source": [
    "## Dynamics and integration\n",
    "### Kinematic bicycle model\n",
    "\n",
    "As a warm-up, we start by defining the vehicle dynamics and a numerical integration scheme, which will allow us to plan ahead the trajectories of the system under different control sequences. \n",
    "\n",
    "Let us fix the dimensions of the vehicle first. "
   ]
  },
  {
   "cell_type": "code",
   "execution_count": null,
   "metadata": {
    "id": "J3akwqq4Q0wv"
   },
   "outputs": [],
   "source": [
    "VEHICLE_LENGTH = 5 \n",
    "VEHICLE_WIDTH = 2.5;\n",
    "vehicle_dims = (VEHICLE_WIDTH, VEHICLE_LENGTH)"
   ]
  },
  {
   "cell_type": "markdown",
   "metadata": {
    "id": "N28mp2MQQ0wv"
   },
   "source": [
    "We will use a kinematic bicycle model for the vehicle [1].\n",
    "\n",
    "<img src=\"bicycle_drawing.png\"/>\n",
    "\n",
    "The state of the vehicle is given as $x = (p_x, p_y, \\theta, v)$ with $(p_x, p_y)$ the position of the vehicle center of mass in a fixed cartesian coordinate system, $\\theta$ the heading angle of the vehicle and $v$ the longitudinal velocity. The inputs the vehicle are $u = (a, \\delta)$ with $a$ the longitudinal acceleration and $\\delta$ the steering angle in radians. \n",
    "\n",
    "The kinematic bicycle model is given as: \n",
    "$$\n",
    "\\begin{aligned}\n",
    "    \\begin{cases}\n",
    "    \\dot{p}_{x} &= v  \\cos(\\theta+\\beta) \\\\ \n",
    "    \\dot{p}_{y} &= v \\sin(\\theta+\\beta) \\\\\n",
    "    \\dot{\\theta} &= v \\sin(\\beta) \\\\\n",
    "    \\dot{v} &= a \n",
    "    \\end{cases}\n",
    "\\end{aligned}\n",
    "$$\n",
    "with $\\beta = \\arctan(\\frac{1}{2} \\tan \\delta)$. This version is slightly simplified compared to the more well-known formulation of the system, but for our purposes today, the given model will suffice. \n",
    "\n",
    "[1] R. Rajamani, *Vehicle Dynamics and Control*, 2nd ed. Springer US, 2012. doi: [10.1007/978-1-4614-1433-9](https://doi.org/10.1007/978-1-4614-1433-9)."
   ]
  },
  {
   "cell_type": "markdown",
   "metadata": {},
   "source": [
    "### 🔧 Task: vehicle dynamics \n",
    "\n",
    "Complete the function below, implementing the dynamics, where `x` can be assumed to be a $4 \\times 1$ array and `u` a $2 \\times 1$ array. \n",
    "\n",
    "*Hint.* We will use this function in the construction of the optimal control problem later. To output a single vector containing the components of the state vector, suppose that `components` is a `list` containing the derivatives. The command `casadi.vertcat(*components)` will construct a single output vector. "
   ]
  },
  {
   "cell_type": "code",
   "execution_count": null,
   "metadata": {},
   "outputs": [],
   "source": [
    "def kinematic_bicycle(x,u):\n",
    "        \"\"\"\n",
    "        Implements the continuous-time bicycle dynamics\n",
    "        The bicycle dynamics are a set of (differential) equations which model\n",
    "        the motions of a vehicle by assuming that the left and right wheels stay\n",
    "        perfectly parallel at all times.\n",
    "\n",
    "\n",
    "        The input u consists of [acceleration, steering angle]\n",
    "\n",
    "        Args:\n",
    "            x: The current state vector, consisting of\n",
    "                   - X: the x-position.\n",
    "                   - Y: the y-position.\n",
    "                   - psi: the angle of the vehicle with respect to the road.\n",
    "                   - v: the speed of the vehicle (scalar).\n",
    "            u: The input u consists of [acceleration, steering angle]\n",
    "\n",
    "        Returns:\n",
    "            the time derivative of the state vector\n",
    "        \"\"\"\n",
    "        res = [] ## TO-DO! Res should be a list of expressions of `x` and `u` representing the dynamics!\n",
    "        return cs.vertcat(*res)"
   ]
  },
  {
   "cell_type": "markdown",
   "metadata": {},
   "source": [
    "#### Test block"
   ]
  },
  {
   "cell_type": "code",
   "execution_count": null,
   "metadata": {},
   "outputs": [],
   "source": [
    "x_test = np.array([1.,3.,4.,5.])\n",
    "u_test = np.zeros(2)\n",
    "\n",
    "try: \n",
    "    np.testing.assert_allclose(kinematic_bicycle(x_test, u_test).toarray(), np.array([-3.26822, -3.78401, 0, 0]).reshape((-1,1)), rtol=1e-4) \n",
    "    print(\"Looks like it works! Let's move on!\")\n",
    "except Exception as e:\n",
    "    print(e)\n",
    "    print(\"Seems like something is still wrong in your code... The exception above was thrown\")"
   ]
  },
  {
   "cell_type": "markdown",
   "metadata": {
    "id": "33FXRvkLQ0wy"
   },
   "source": [
    "### Numerical integration\n",
    "In order to use the system of ODEs presented above to make predictions, we need to be able to solve these differential equations numerically. There exist many different algorithms to do so, all somehow trading off accuracy with speed. We will not go into detail on these methods, but simply implement and compare two of the most widely used integrators for applications in optimal control. \n",
    "\n",
    "- Forward Euler: the simplest explicit integration scheme. Somewhat inaccurate, but very computationally inexpensive. For sufficiently fast sample speeds, this method will be sufficient in many control applications.  \n",
    "$$\n",
    "    x_{k+1} = x_k + f(x_k,u_k) T_{\\mathrm{s}}\n",
    "$$\n",
    "- Runge-Kutta-order 4: a slightly more sophisticated explicit integration scheme. Often considered to have a good trade-off between computational load and accuracy\n",
    "$$\n",
    "    ...\n",
    "$$"
   ]
  },
  {
   "cell_type": "markdown",
   "metadata": {},
   "source": [
    "### 🔧 Task: implement numerical integrators\n",
    "\n",
    "Complete the functions below. As mentioned in the docstring, you should output a (lambda) function which takes three inputs (array, array, float) and returns one output (array). \n"
   ]
  },
  {
   "cell_type": "code",
   "execution_count": null,
   "metadata": {},
   "outputs": [],
   "source": [
    "def forward_euler(f, ts):\n",
    "    \"\"\"Given a function f: (x, u) -> xdot, return a function \n",
    "    (x, u, t) -> x+, where x+ is given by the Forward euler method. \n",
    "    \"\"\"\n",
    "    def dt_dyn(x,u,_):   # Hint, you don't need time (third argument)! \n",
    "        # TODO \n",
    "        pass \n",
    "    return dt_dyn \n",
    "    \n",
    "def runge_kutta4(f, ts):\n",
    "    \"\"\"Given a function f: (x, u) -> xdot, return a function \n",
    "    (x, u, t) -> x+, where x+ is given by the Runge-kutta 4 method. \n",
    "    \"\"\"\n",
    "    def dt_dyn(x,u,_): \n",
    "        #TODO \n",
    "        pass \n",
    "    return dt_dyn "
   ]
  },
  {
   "cell_type": "markdown",
   "metadata": {},
   "source": [
    "#### Test block"
   ]
  },
  {
   "cell_type": "code",
   "execution_count": null,
   "metadata": {},
   "outputs": [],
   "source": [
    "x_test = np.array([1.,3.,4.,5.])\n",
    "u_test = np.zeros(2)\n",
    "\n",
    "test_fw_eul = forward_euler(kinematic_bicycle, 0.1) \n",
    "test_dt = runge_kutta4(kinematic_bicycle, 0.1) \n",
    "\n",
    "try: \n",
    "    np.testing.assert_allclose(test_fw_eul(x_test, u_test,0).toarray(), np.array([[0.673178, 2.6216, 4, 5]]).reshape((-1,1)), rtol=1e-4) \n",
    "    print(\"Looks like Forward Euler works!\")\n",
    "except Exception as e:\n",
    "    print(e)\n",
    "    print(\"Seems like something is still wrong in your code... The exception above was thrown\")\n",
    "\n",
    "try: \n",
    "    np.testing.assert_allclose(test_dt(x_test, u_test,0).toarray(), np.array([[0.673178, 2.6216, 4, 5]]).reshape((-1,1)), rtol=1e-4) \n",
    "    print(\"Looks like Runge kutta 4 works!\")\n",
    "except Exception as e:\n",
    "    print(e)\n",
    "    print(\"Seems like something is still wrong in your code... The exception above was thrown\")"
   ]
  },
  {
   "cell_type": "markdown",
   "metadata": {
    "id": "DQCoRTYiQ0w1"
   },
   "source": [
    "### Comparing numerical integrators\n",
    "Let's try out our numerical integrators and see how well they perform.\n",
    "\n",
    "#### 🔧 Task: build a simulator\n",
    "\n",
    "Implement the function below, which runs a simulation of given dynamics with a given control policy, over a given number of steps. "
   ]
  },
  {
   "cell_type": "code",
   "execution_count": null,
   "metadata": {},
   "outputs": [],
   "source": [
    "from typing import Callable, Tuple\n",
    "\n",
    "def simulate(x0: np.ndarray,\n",
    "             dynamics: Callable,\n",
    "             policy: Callable,\n",
    "             time_steps: int = 50) -> Tuple[np.ndarray, np.ndarray]:\n",
    "    \"\"\"Simulate the system for `time_steps` steps into the future. \n",
    "\n",
    "    Args: \n",
    "        x0 [np.ndarray]: the initial state \n",
    "        dynamics [Callable]: function state, input, time -> state: discrete-time dynamics\n",
    "        policy [Callable]: function State, time -> input: time-varying policy\n",
    "        time_steps [int]: Number of time steps to simulate\n",
    "    Return: \n",
    "        state sequence [np.ndarray]: (4 x time steps+1)-dimensional array containing the state sequence over time\n",
    "        input sequence [np.ndarray]: (2 x time steps)-dimensional array containing the input sequence over time\n",
    "    \"\"\"\n",
    "    state_sequence = [x0]\n",
    "    input_sequence = [] \n",
    "    \n",
    "    # TODO: Loop over the time steps and update the state and input sequences! \n",
    "    pass \n",
    "    \n",
    "    \n",
    "    state = np.hstack(state_sequence)\n",
    "    controls = np.hstack(input_sequence)\n",
    "    return state, controls "
   ]
  },
  {
   "cell_type": "markdown",
   "metadata": {
    "id": "n6em1RjSQ0w2"
   },
   "source": [
    "Now that we have a simulator, we can compare the outputs of the two integrators. To do so, we'll define an arbitrary policy first. We consider a policy to be a function $\\pi : (x, t) \\mapsto u$ which maps the state $x$ and possibly the discrete time $t$ to a control action $u$. Later, this policy will be determined by an MPC controller. \n"
   ]
  },
  {
   "cell_type": "code",
   "execution_count": null,
   "metadata": {
    "colab": {
     "base_uri": "https://localhost:8080/",
     "height": 281
    },
    "id": "ocjVcDUPQ0w2",
    "outputId": "78cc97bc-eab7-4e22-f129-e2a9696d1445"
   },
   "outputs": [],
   "source": [
    "# Define a policy to test the system\n",
    "acceleration = 10 # Fix a constant longitudinal acceleration \n",
    "policy = lambda _, t: np.array([[acceleration],\n",
    "                               [0.1 * np.sin(t)]])\n",
    "\n",
    "time = np.arange(0,20)\n",
    "input_trajectory = np.array([policy(None, t) for t in time])\n",
    "\n",
    "fig, ax1 = plt.subplots()\n",
    "plt.title(\"policy $\\pi(t)$\")\n",
    "ax1.step(time, np.array([policy(None, t)[0] for t in time]), color=\"tab:orange\")\n",
    "ax1.set_ylabel(\"acceleration $a(t)$\", color=\"tab:orange\");\n",
    "ax1.tick_params('y', colors='tab:orange')\n",
    "\n",
    "ax2 = ax1.twinx()\n",
    "ax2.step(time, np.array([policy(None, t)[1] for t in time]), color=\"tab:blue\")\n",
    "ax2.set_ylabel(\"steering angle $\\delta(t)$\", color=\"tab:blue\")\n",
    "ax2.tick_params('y', colors='tab:blue')\n",
    "ax1.set_xlabel(\"time $t$\")\n",
    "\n",
    "plt.show()"
   ]
  },
  {
   "cell_type": "markdown",
   "metadata": {
    "id": "Rd5YvXwvQ0w4"
   },
   "source": [
    "Combining this policy with the previously implemented dynamics, we obtain a closed loop system, for which we can compare our integrators. \n",
    "\n",
    "Let us first set some **parameters** "
   ]
  },
  {
   "cell_type": "code",
   "execution_count": null,
   "metadata": {
    "id": "PRPytEuxQ0w4"
   },
   "outputs": [],
   "source": [
    "ts = 0.05 #0.05                    # Sample time\n",
    "x = np.array([[0,0,0,0]]).T  # initial state: 4 x 1 vector \n",
    "steps=100                    # Number of steps to simulate [int]"
   ]
  },
  {
   "cell_type": "markdown",
   "metadata": {
    "id": "zbpYEfB6Q0w4"
   },
   "source": [
    "Now, we construct a discrete time dynamics $x^+ = f_{\\mathrm{d}}(x, u)$, which are supposed to approximate the solution to the ode:\n",
    "$$\n",
    "    f_{\\mathrm{d}}(x,u) = \\int_{t}^{t+T_{\\mathrm{s}}} f(x(\\tau),u) \\mathrm{d} \\tau, \\quad x(t) = x\n",
    "$$\n"
   ]
  },
  {
   "cell_type": "code",
   "execution_count": null,
   "metadata": {
    "colab": {
     "base_uri": "https://localhost:8080/",
     "height": 313
    },
    "id": "dkzD1dyvQ0w5",
    "outputId": "29b110ca-75ab-444c-c963-7b7d6489ceb7"
   },
   "outputs": [],
   "source": [
    "# %matplotlib inline\n",
    "from scipy.integrate import odeint  # Load scipy integrator as a ground truth\n",
    "\n",
    "# Discrete-time dynamics under forward Euler \n",
    "dynamics_fw_euler = forward_euler(kinematic_bicycle, ts)   \n",
    "# Discrete-time dynamics \"ground truth\"\n",
    "def true_discretized_dynamics(x,u,t):\n",
    "    f = lambda x,t: np.array(kinematic_bicycle(x, u)).reshape([x.size])\n",
    "    y = odeint(f, x.reshape([x.size]), [t, t+ts])\n",
    "    return y[-1].reshape((x.size, 1))"
   ]
  },
  {
   "cell_type": "markdown",
   "metadata": {},
   "source": [
    "#### 🔧 Task: Simulate the \"true\" dynamics and compare with a simulation of your implementations of the integrators.\n",
    "\n",
    "❓ Play around a bit with the value of `acceleration` in the policy defined above and compare the size of the integration errors at the end of the simulation. What do you observe? Can you explain this?\n",
    "\n",
    "❓ What other parameter do you expect to play an important role in the accuracy (and therefore the choice) of your integration scheme? \n",
    "\n",
    "💡**Answer**: The error accumulates over time, since we are using the previous (erroneous) point to compute the next point from. The larger the acceleration, the more the velocity will change over the sampling period. As a result, the error in the Forward Euler method resulting from keeping the velocity constant will also be larger as the acceleration increases. This is of course relative to the size of the sampling period; the smaller the sampling period, the smaller the errors."
   ]
  },
  {
   "cell_type": "code",
   "execution_count": null,
   "metadata": {},
   "outputs": [],
   "source": [
    "# Simulate the ground truth dynamics \n",
    "state_true, controls_true = simulate(x, dynamics=true_discretized_dynamics, policy=policy, time_steps=steps)\n",
    "\n",
    "# Simulate the forward Euler dynamics\n",
    "state, controls = simulate(x, dynamics=dynamics_fw_euler, \n",
    "                              policy=policy, time_steps=steps)\n",
    "\n",
    "\n",
    "# Plot the results\n",
    "fig, axes = plt.subplots(2,1, constrained_layout = True)\n",
    "axes[0].plot(state[0,:], state[1,:], label=\"Forward Euler\")\n",
    "axes[0].plot(state_true[0,:], state_true[1,:], label=\"scipy odeint\")\n",
    "axes[0].set_xlabel(\"$p_{x}$\")\n",
    "axes[0].set_ylabel(\"$p_{y}$\")\n",
    "axes[0].legend()\n",
    "axes[0].set_title(\"Position trajectories\")\n",
    "\n",
    "error_fw_euler = np.linalg.norm(state_true-state, axis=0)\n",
    "axes[1].plot(error_fw_euler, label=\"Forward Euler\")\n",
    "axes[1].set_xlabel(\"time step\")\n",
    "axes[1].set_ylabel(\"error\")\n",
    "axes[1].set_title(\"Integration errors\")\n",
    "axes[1].legend();"
   ]
  },
  {
   "cell_type": "markdown",
   "metadata": {
    "id": "XniD-aMBQ0w5"
   },
   "source": [
    "We can conclude that for both methods, the approximation error accumulates over time, as the new state is computed based on an erroneous estimate in the previous time step. Fortunately, however, if the open loop prediction horizon is not too long, this error is not too severe and can be corrected by observing the actual new state online."
   ]
  },
  {
   "cell_type": "markdown",
   "metadata": {
    "id": "DWd047IIQ0w5"
   },
   "source": [
    "## Intermezzo: animation \n",
    "It's often convenient to represent a simulation in animated form. We provide a small piece of code for this (see `utilities.py`). To use it, simply, supply it a sequence states and inputs that it needs to plot. Furthermore, it needs the vehicle dimensions to draw a rectangle from (these were defined above and stored in `vehicle_dims`) and the sampling time `ts`. \n",
    "\n",
    "**Example**: The code block below demonstrates the usage of the given animation code on some dummy data.\n",
    "\n",
    "🔧 **Task:** Try it out on the output of your simulation from the block above.\n",
    " \n",
    "⚠ *NOTE: It can take a few seconds for the animation to generate!*"
   ]
  },
  {
   "cell_type": "code",
   "execution_count": null,
   "metadata": {
    "colab": {
     "base_uri": "https://localhost:8080/",
     "height": 435
    },
    "id": "POHjq6wBQ0w7",
    "outputId": "f7d6b210-5fb4-4cc4-ec0c-21765e6a19ca"
   },
   "outputs": [],
   "source": [
    "# %matplotlib inline\n",
    "from utilities import Animation\n",
    "\n",
    "# Generate some dummy data. Replace these arrays with the data generated above! \n",
    "datalen = 100 \n",
    "state = np.vstack([np.linspace(0,5, datalen)**2, \n",
    "                   np.zeros(datalen), \n",
    "                   np.zeros(datalen),\n",
    "                   np.linspace(0,5,datalen)]\n",
    "                )\n",
    "controls = np.vstack([np.zeros(datalen), \n",
    "                   np.zeros(datalen)])\n",
    "#------------------------------------------------------\n",
    "# Generate animation! \n",
    "from IPython.display import HTML\n",
    "animator = Animation(state,controls, *vehicle_dims)\n",
    "HTML(animator.build(ts).to_jshtml())"
   ]
  },
  {
   "cell_type": "markdown",
   "metadata": {
    "id": "kA_-2V-ZQ0w7"
   },
   "source": [
    "## Optimal control problem\n",
    "\n",
    "We are now ready to start actually controlling our vehicle. To do so we will start by constructing an optimal control problem specifying our requirements.\n",
    "\n",
    "### Building a nonlinear program in 📖 [CasADi](https://web.casadi.org/)\n",
    "We will use CasADi as a modelling language for our problem. CasADi is \n",
    "an automatic differentiation library with powerful C-code generation capabilities,\n",
    "which provides bindings to many popular optimization solvers. \n",
    "In today's tutorial, we will pass our optimization problem to a custom \n",
    "solver, but the modelling procedure for any other solver that is interfaced \n",
    "with CasADi is the same. \n",
    "\n",
    "CasADi expects an optimization problem of the form \n",
    "$$\n",
    "    \\begin{aligned}\n",
    "        &\\operatorname{Minimize}_{x}&& f(x) \\\\ \n",
    "        &\\text{s.t.}&& \\underline{x} \\leq x \\leq \\bar{x}\\\\ \n",
    "        &&& \\underline{g} \\leq g(x) \\leq \\bar{g}\n",
    "    \\end{aligned}\n",
    "$$\n",
    "with $x \\in \\mathbb{R}^{n}$ the decision variable, which may be bounded above and below \n",
    "using $\\underline{x}, \\bar{x}$, and $g: \\mathbb{R} \\to \\mathbb{R}^m$ a \n",
    "possibly nonlinear constraint function with given lower and upper bounds.\n",
    "\n",
    "To represent this in the code, $x$ is an object of the CasADi `SX.sym`\n",
    "class and $g$ and $f$ are expressions (which can be built from regular mathematical functions that are available in Python). \n",
    "\n",
    "📖 See [The CasADi documentation](https://web.casadi.org/docs/#nonlinear-programming) for more info. \n",
    "\n",
    "\n",
    "### The optimal control problem \n",
    "The goal of our controller will be to drive our vehicle from a given initial state to a desired setpoint. For convenience, we will put this set-point at the origin, but this could be any other reference state.\n",
    "We fix a prediction horizon $N$ and consider the standard additive cost which penalizes at every time step the deviations of the current state from the given setpoint. \n",
    "This yields a cost function \n",
    "$$\n",
    "    V(x,u) = \\sum_{k=0}^{N-1} x_k^\\top Q x_k + u_k^\\top R u_k + x_N^\\top Q_N x_N, \n",
    "$$\n",
    "where $x_0 = x$ and $x_k = f(x_k, u_k)$ for $k = 0, \\dots, N-1$.\n",
    "For convenience, we'll take $Q_N = Q$.\n",
    "\n",
    "❗*Note: a careful choice of $Q_N$ is crucial in proving certain properties of the closed-loop system, such as stability.\n",
    "For this exercise in particular, we will not worry too much about this.*\n",
    "\n",
    "We will assume there are physical limits on the actuation of the vehicle, as well as bounds on the system states: \n",
    "$$\n",
    "    \\begin{aligned}\n",
    "        \\underline{u}  &\\leq u_k \\leq \\bar{u}, \\quad k = 0, \\dots, N-1\\\\\n",
    "        \\underline{x}  &\\leq x_k \\leq \\bar{x}, \\quad k = 0, \\dots, N-1,\n",
    "    \\end{aligned}\n",
    "$$ \n",
    "with $\\underline{x} = (-30, -20, -\\frac{\\pi}{2}, -10)$, $\\bar x = (30, 20, \\frac{\\pi}{2}, 10)$, and \n",
    "$\\underline{u} = (-8, -\\frac{\\pi}{4})$, $\\bar{u} = (3, \\frac{\\pi}{4})$.\n",
    "\n",
    "We will implement our controller using a *sequential approach* (a.k.a. single-shooting) so that\n",
    "$x_k$ will be represented as a nonlinear function of the initial state $x_0$ (which is a parameter) and the \n",
    "inputs up to time step $k$, namely $x_{k+1} = f(\\,\\cdot\\,, u_{k-1}) \\circ \\dots \\circ f(x_0, u_0)$.\n",
    "\n",
    "As a result, $x_k$, $k=1,\\dots,N$ will make up the output of the constraint function $g$. \n",
    "\n"
   ]
  },
  {
   "cell_type": "markdown",
   "metadata": {
    "id": "A4PHUfjCQ0w8"
   },
   "source": [
    "#### 🔧 Task: Construct an optimal control problem using [CasADi](https://web.casadi.org/)\n",
    "Complete the function below, which takes as argument the prediction horizon (`int`), and returns a dictionary containing the information that describe the nlp above. See the docstring of the function for a more precise specification. \n",
    "Under the hood, CasADi will compute and store the required gradient (and Hessian) information that a solver would need. We will not use Hessian information, as we will be using an ALM solver with PANOC as an inner solver, which is designed to be matrix free. This is potentially a significant advantage in control applications, which are often run on underpowered embedded devices!\n",
    "\n",
    "For the quadratic cost function, you can use the following parameter values\n",
    "$$\n",
    "Q = \\operatorname{diag}(1,1,1,0.1), \\quad \n",
    "R = \\operatorname{diag}(0.1, 1). \n",
    "$$\n",
    "❓ Suppose that we do not care about driving any state entry to zero particularly fast, what reason could we have for increasing certain values in the weight matrix?\n",
    "\n",
    "*hint*: think about the units/the range of values that each state variable can take. \n",
    "\n",
    "To propagate the states, use your forward Euler method from before, i.e., `x = dynamics_fw_euler(x,u,t)`"
   ]
  },
  {
   "cell_type": "code",
   "execution_count": null,
   "metadata": {
    "id": "-A3wu3OBQ0w9"
   },
   "outputs": [],
   "source": [
    "from typing import Tuple \n",
    "\n",
    "def construct_ocp(horizon: int) -> Tuple[cs.nlpsol, np.ndarray, np.ndarray]: \n",
    "    \"\"\"\n",
    "    Given the prediction horizon, build a nonlinear program that represents the parametric optimization problem described above, with the initial state x as a parameter. \n",
    "    Use a single shooting formulation, i.e., do not define a new decision variable for the states, but rather write them as functions of the initial state and the control variables. Also return the lower bound and upper bound on the decision variables and constraint functions:\n",
    "\n",
    "    Args: \n",
    "        horizon [int]: decision horizon  \n",
    "    Returns: \n",
    "        solver [dict]: the nonlinear program as a dictionary: \n",
    "            {\"f\": [cs.SX] cost (as a function of the decision variables, built as an expression, e.g., x + y, where x and y are CasADi SX.sym objects),\n",
    "             \"g\": [cs.Expression] nonlinear constraint function as \n",
    "             an expression of the variables and the parameters. \n",
    "             These constraints represent the bounds on the state. \n",
    "             \"x\": [cs.SX] decision_vars (all control actions over the prediction horizon (concatenated into a long vector)), \n",
    "             \"p\": [cs.SX] parameters (initial state vector)} \n",
    "        bounds [dict]: the bounds on the constraints \n",
    "            {\"lbx\": [np.ndarray] Lower bounds on the decision variables, \n",
    "             \"ubx\": [np.ndarray] Upper bounds on the decision variables, \n",
    "             \"lbg\": [np.ndarray] Lower bounds on the nonlinear constraint g, \n",
    "             \"ubg\": [np.ndarray] Upper bounds on the nonlinear constraint g \n",
    "            }\n",
    "    \"\"\"\n",
    "    # Make decision variables \n",
    "    x0 = cs.SX.sym(\"x0\", (4,1))\n",
    "    x = x0\n",
    "    u = [cs.SX.sym(f\"u_{t}\", (2,1)) for t in range(horizon)]\n",
    "\n",
    "    # TODO state weights matrix\n",
    "    \n",
    "    # TODO controls weights matrix\n",
    "    \n",
    "    # TODO -- Define state bounds\n",
    "    \n",
    "    # TODO -- Define input bounds \n",
    "    \n",
    "    # Initialize containers \n",
    "    lbx = []\n",
    "    ubx = []\n",
    "    g = [] \n",
    "    lbg = []\n",
    "    ubg = []\n",
    "    # Rollout the prediction horizon \n",
    "    for i in range(horizon):\n",
    "        # TODO: augment cost and add constraints \n",
    "        ... \n",
    "    \n",
    "    # Collect everything into dictionaries \n",
    "    \n",
    "    variables = cs.vertcat(*u)\n",
    "    nlp = {\"f\": cost,\n",
    "           \"x\": variables,\n",
    "           \"g\": cs.vertcat(*g),\n",
    "           \"p\": x0}\n",
    "    bounds = {\"lbx\": cs.vertcat(*lbx), \n",
    "              \"ubx\": cs.vertcat(*ubx), \n",
    "              \"lbg\": cs.vertcat(*lbg), \n",
    "              \"ubg\": cs.vertcat(*ubg), \n",
    "            }\n",
    " \n",
    "    return nlp, bounds\n"
   ]
  },
  {
   "cell_type": "markdown",
   "metadata": {},
   "source": [
    "We will now define a small utility function to build an ALM solver using panocpy. "
   ]
  },
  {
   "cell_type": "code",
   "execution_count": null,
   "metadata": {},
   "outputs": [],
   "source": [
    "import panocpy as pa \n",
    "from datetime import timedelta\n",
    "\n",
    "def get_ALM_solver(lbfgsmem = 20, max_iter=30, \n",
    "                   max_time_seconds=1) -> pa.ALMSolver: \n",
    "    \n",
    "    tol = 1e-2\n",
    "    \n",
    "    verbose = False\n",
    "    # Parameters about the inner solver \n",
    "    panocparams = {\n",
    "        \"max_iter\": 1000,\n",
    "        \"max_time\": timedelta(seconds=0.5),\n",
    "        \"print_interval\": 0 if verbose else 0,\n",
    "        \"stop_crit\": pa.PANOCStopCrit.FPRNorm,\n",
    "        \"update_lipschitz_in_linesearch\": True,\n",
    "    }\n",
    "\n",
    "    innersolver = pa.PANOCSolver(\n",
    "        pa.PANOCParams(**panocparams),\n",
    "        pa.LBFGSParams(memory=lbfgsmem),\n",
    "    )\n",
    "    \n",
    "    # Parameters about the outer solver \n",
    "    almparams = pa.ALMParams(\n",
    "        max_iter=max_iter,\n",
    "        max_time=timedelta(seconds=max_time_seconds),\n",
    "        print_interval=1 if verbose else 0,\n",
    "        preconditioning=False,\n",
    "        ε=tol,\n",
    "        δ=1e-4,\n",
    "        Δ=5,\n",
    "        Σ_0=1e3,\n",
    "        Σ_max=1e13,\n",
    "    )\n",
    "\n",
    "    solver = pa.ALMSolver(almparams, innersolver)\n",
    "    return solver"
   ]
  },
  {
   "cell_type": "markdown",
   "metadata": {
    "id": "bCV1M6utQ0w9"
   },
   "source": [
    "### Compiling the optimization problem \n",
    "Now that we have constructed a CasADi representation of the optimal control problem, we can generate efficient C-code to evaluate the cost and the gradient, which is used by the optimizer. `panocpy` provides useful utilities to do this easily:\n",
    "\n",
    "Let's set our prediction horizon to some (rather large) number and compile the parametric optimal control problem."
   ]
  },
  {
   "cell_type": "code",
   "execution_count": null,
   "metadata": {},
   "outputs": [],
   "source": [
    "from utilities import compile_ocp\n",
    "prediction_horizon = 30                         # Set the prediction horizon \n",
    "\n",
    "nlp_description, bounds = construct_ocp(prediction_horizon)   # Build the optimizer\n",
    "problem = compile_ocp(nlp_description, bounds)"
   ]
  },
  {
   "cell_type": "markdown",
   "metadata": {},
   "source": [
    "#### 🔧 Task: simulate the open-loop trajectory \n",
    "Call the optimizer to obtain the optimal sequence of control actions and use these to simulate the state trajectory for $N$ steps.  "
   ]
  },
  {
   "cell_type": "code",
   "execution_count": null,
   "metadata": {},
   "outputs": [],
   "source": [
    "# Set initial state and some initial guess\n",
    "x_init = np.array([-20, -5, 0, 0]).reshape((4,1))      # Initial state as column vector \n",
    "\n",
    "# -------------\n",
    "# TODO \n",
    "# set x_init as the `param` of the problem\n",
    "# make a solver and call it\n",
    "# Reshape the solution into a 2xn_steps array \n",
    "# ------------\n",
    "\n",
    "def policy(x,t):                                   # Write the solution as a function of time \n",
    "    return u_sequence[:,t]                         # At time t, use the t'th element in the sequence \n",
    "\n",
    "# We can only simulate forward as many steps as we have predicted in the MPC problem (in open loop).\n",
    "n_steps = u_sequence.shape[1]\n",
    "x_predicted, _ = simulate(x0=x_init, dynamics=dynamics_fw_euler, policy=policy, time_steps=n_steps) \n",
    "\n",
    "# Compare against a simulation with the true dynamics\n",
    "x_true, _ = simulate(x0=x_init, dynamics=true_discretized_dynamics, policy=policy, time_steps=n_steps)"
   ]
  },
  {
   "cell_type": "markdown",
   "metadata": {},
   "source": [
    "For convenience, we define a quick function to plot the control actions"
   ]
  },
  {
   "cell_type": "code",
   "execution_count": 7,
   "metadata": {},
   "outputs": [],
   "source": [
    "def plot_input_sequence(u_sequence): \n",
    "    plt.subplot(2,2, (1,3))\n",
    "    plt.title(\"Control actions\")\n",
    "    plt.plot(u_sequence[0,:], u_sequence[1,:], marker=\".\") \n",
    "    plt.xlabel(\"$a$\")\n",
    "    plt.ylabel(\"$\\delta$\");\n",
    "    plt.subplot(2,2,2)\n",
    "    plt.title(\"Steering angle\")\n",
    "    plt.plot(u_sequence[1,:].squeeze(), marker=\".\") \n",
    "    plt.ylabel(\"$\\delta$\");\n",
    "    plt.subplot(2,2,4)\n",
    "    plt.title(\"Acceleration\")\n",
    "    plt.plot(u_sequence[0,:].squeeze(), marker=\".\") \n",
    "    plt.ylabel(\"$a$\");\n",
    "    plt.xlabel(\"$t$\")\n",
    "    plt.tight_layout()\n"
   ]
  },
  {
   "cell_type": "code",
   "execution_count": 8,
   "metadata": {},
   "outputs": [
    {
     "ename": "NameError",
     "evalue": "name 'plt' is not defined",
     "output_type": "error",
     "traceback": [
      "\u001b[0;31m---------------------------------------------------------------------------\u001b[0m",
      "\u001b[0;31mNameError\u001b[0m                                 Traceback (most recent call last)",
      "\u001b[0;32m/tmp/ipykernel_94110/572351195.py\u001b[0m in \u001b[0;36m<module>\u001b[0;34m\u001b[0m\n\u001b[0;32m----> 1\u001b[0;31m \u001b[0mplt\u001b[0m\u001b[0;34m.\u001b[0m\u001b[0mfigure\u001b[0m\u001b[0;34m(\u001b[0m\u001b[0;34m)\u001b[0m\u001b[0;34m\u001b[0m\u001b[0;34m\u001b[0m\u001b[0m\n\u001b[0m\u001b[1;32m      2\u001b[0m \u001b[0mplot_input_sequence\u001b[0m\u001b[0;34m(\u001b[0m\u001b[0mu_sequence\u001b[0m\u001b[0;34m)\u001b[0m\u001b[0;34m\u001b[0m\u001b[0;34m\u001b[0m\u001b[0m\n\u001b[1;32m      3\u001b[0m \u001b[0;34m\u001b[0m\u001b[0m\n\u001b[1;32m      4\u001b[0m \u001b[0mplt\u001b[0m\u001b[0;34m.\u001b[0m\u001b[0mfigure\u001b[0m\u001b[0;34m(\u001b[0m\u001b[0;34m)\u001b[0m\u001b[0;34m\u001b[0m\u001b[0;34m\u001b[0m\u001b[0m\n\u001b[1;32m      5\u001b[0m \u001b[0mplt\u001b[0m\u001b[0;34m.\u001b[0m\u001b[0mtitle\u001b[0m\u001b[0;34m(\u001b[0m\u001b[0;34m\"Predicted positions\"\u001b[0m\u001b[0;34m)\u001b[0m\u001b[0;34m\u001b[0m\u001b[0;34m\u001b[0m\u001b[0m\n",
      "\u001b[0;31mNameError\u001b[0m: name 'plt' is not defined"
     ]
    }
   ],
   "source": [
    "plt.figure() \n",
    "plot_input_sequence(u_sequence)\n",
    "\n",
    "plt.figure() \n",
    "plt.title(\"Predicted positions\")\n",
    "plt.plot(x_predicted[0,:], x_predicted[1,:], label=\"predicted trajectory\",marker=\".\") \n",
    "plt.plot(x_true[0,:], x_true[1,:], label=\"True trajectory\",marker=\".\")\n",
    "plt.legend()\n",
    "plt.xlabel(\"$p_x$\")\n",
    "plt.ylabel(\"$p_y$\") ; "
   ]
  },
  {
   "cell_type": "markdown",
   "metadata": {
    "id": "d5A9vLqKQ0w-"
   },
   "source": [
    "## Model error \n",
    "\n",
    "So far, everything looks nice, but of course, this open-loop simulation only reveals what our controller predicted. \n",
    "Now, suppose that there is some model error and the true vehicle dynamics are given by the following function:"
   ]
  },
  {
   "cell_type": "code",
   "execution_count": null,
   "metadata": {
    "id": "FYNQlv1CQ0w-"
   },
   "outputs": [],
   "source": [
    "def kinematic_bicycle_true(x,u):\n",
    "        \"\"\"\n",
    "        Implements the continuous-time bicycle dynamics\n",
    "        The bicycle dynamics are a set of (differential) equations which model\n",
    "        the motions of a vehicle by assuming that the left and right wheels stay\n",
    "        perfectly parallel at all times.\n",
    "\n",
    "\n",
    "        The input u consists of [acceleration, steering angle]\n",
    "\n",
    "        Args:gewoon \n",
    "            x: The current state vector, consisting of\n",
    "                   - X: the x-position.\n",
    "                   - Y: the y-position.\n",
    "                   - psi: the angle of the vehicle with respect to the road.\n",
    "                   - v: the speed of the vehicle (scalar).\n",
    "            u: The input u consists of [acceleration, steering angle]\n",
    "\n",
    "        Returns:\n",
    "            the time derivative of the state vector\n",
    "        \"\"\"\n",
    "        lr = 0.3*VEHICLE_LENGTH \n",
    "        l = VEHICLE_LENGTH\n",
    "\n",
    "        b = cs.arctan(lr/l * np.tan(u[1]))\n",
    "        res = [x[3] * np.cos(x[2]+b),\n",
    "               x[3] * np.sin(x[2]+b),\n",
    "               x[3] * np.sin(b),\n",
    "               u[0]]\n",
    "        return cs.vertcat(*res)\n",
    "\n",
    "def true_system(x,u,t):\n",
    "    f = lambda x,t: np.array(kinematic_bicycle_true(x, u)).reshape([x.size])\n",
    "    y = odeint(f, x.reshape([x.size]), [t, t+ts])\n",
    "    return y[-1].reshape((x.size, 1))"
   ]
  },
  {
   "cell_type": "markdown",
   "metadata": {
    "id": "7_zbUUaxQ0w-"
   },
   "source": [
    "Now, running the simulation again, using `true_system` for the dynamics... \n",
    "\n",
    "❓What do you observe? "
   ]
  },
  {
   "cell_type": "code",
   "execution_count": null,
   "metadata": {
    "colab": {
     "base_uri": "https://localhost:8080/",
     "height": 281
    },
    "id": "DA3d7S11Q0w_",
    "outputId": "3f4898e5-1b79-43df-b994-371b5ada4791"
   },
   "outputs": [],
   "source": [
    "# Compare against a simulation with the true dynamics\n",
    "x_with_error, _ = simulate(x0=x_init, dynamics=true_system, policy=policy, time_steps=n_steps)\n",
    "\n",
    "plt.figure()\n",
    "plt.plot(x_predicted[0,:], x_predicted[1,:], marker=\".\", label=\"predicted trajectory\") \n",
    "plt.plot(x_true[0,:], x_true[1,:], label=\"Trajectory with accurate ODE solver\",marker=\".\")\n",
    "plt.plot(x_with_error[0,:], x_with_error[1,:], label=\"True trajectory\",marker=\".\",)\n",
    "plt.legend()\n",
    "plt.xlabel(\"$p_x$\")\n",
    "plt.ylabel(\"$p_y$\"); \n"
   ]
  },
  {
   "cell_type": "markdown",
   "metadata": {
    "id": "SfR2Wq--Q0w_"
   },
   "source": [
    "## Introducing feedback with MPC \n",
    "\n",
    "We can repeat the previous simulation by including the solution of the optimization problem into the definition of the control policy. \n",
    "\n",
    "#### 🔧 Task: redefine the policy to use receding horizon\n",
    "Implement an MPC controller by repeatedly solving the optimization problem every time the policy is called.\n",
    "\n",
    "You can even reduce the prediction horizon to 20 for this test. This means you'll need to compile a new optimal control problem! Use `construct_ocp` as before.\n"
   ]
  },
  {
   "cell_type": "code",
   "execution_count": null,
   "metadata": {
    "id": "Z2XP3WYxQ0w_"
   },
   "outputs": [],
   "source": [
    "prediction_horizon = 20\n",
    "nlp_description, bounds = construct_ocp(prediction_horizon)   # Build the optimizer \n",
    "problem = compile_ocp(nlp_description, bounds) \n",
    "problem.param = x_init"
   ]
  },
  {
   "cell_type": "code",
   "execution_count": null,
   "metadata": {},
   "outputs": [],
   "source": [
    "class WarmStartedPolicy: \n",
    "    \n",
    "    def __init__(self, solver:pa.ALMSolver,\n",
    "                 problem: pa.ProblemWithParam):  # STORING SOME PERSISTENT DATA \n",
    "        self.alm_solver=solver\n",
    "        self.problem = problem \n",
    "        self.stats = None  # Useful for debugging purposes. \n",
    "        self.initial_guess_primal = np.zeros(problem.n)\n",
    "        self.initial_guess_dual = np.zeros(problem.m)\n",
    "\n",
    "    def __call__(self, x, t):  # CALL THE POLICY \n",
    "        # TODO\n",
    "        # - Update the solver parameter,\n",
    "        # - call the solver\n",
    "        # - update the initial guess attributes with the obtained solution \n",
    "        \n",
    "        return sol_primal[0:2]    \n",
    "\n",
    "    \n",
    "# Define the MPC policy.\n",
    "policy = WarmStartedPolicy(solver, problem) "
   ]
  },
  {
   "cell_type": "markdown",
   "metadata": {
    "id": "ox55fdMvQ0xA"
   },
   "source": [
    "Now, let's simulate the MPC controller, both for the dynamics used and for the true dynamics given above, and verify that the performance of the controller has improved."
   ]
  },
  {
   "cell_type": "code",
   "execution_count": null,
   "metadata": {
    "colab": {
     "base_uri": "https://localhost:8080/",
     "height": 281
    },
    "id": "m3DX2WKuQ0xA",
    "outputId": "8e686310-02b2-4a83-b09a-e5e000772846"
   },
   "outputs": [],
   "source": [
    "n_steps = 200\n",
    "\n",
    "x_simplified, _ = simulate(x0=x_init, dynamics=dynamics_fw_euler, policy=policy, time_steps=n_steps)\n",
    "x_true, u_true = simulate(x0=x_init, dynamics=true_system, policy=policy, time_steps=n_steps)\n",
    "\n",
    "plt.figure()\n",
    "plt.plot(x_simplified[0,:], x_simplified[1,:], marker=\".\", label=\"MPC trajectory with model dynamics\") \n",
    "plt.plot(x_true[0,:], x_true[1,:], marker=\".\", label=\"MPC trajectory with true dynamics\")\n",
    "plt.legend()\n",
    "plt.xlabel(\"$p_x$\")\n",
    "plt.ylabel(\"$p_y$\"); "
   ]
  },
  {
   "cell_type": "code",
   "execution_count": null,
   "metadata": {
    "colab": {
     "base_uri": "https://localhost:8080/",
     "height": 516
    },
    "id": "AtToytT0Q0xA",
    "outputId": "58acd86c-d05a-47d7-a94f-2a17b8d99812"
   },
   "outputs": [],
   "source": [
    "## Animation for the true dynamics \n",
    "%matplotlib inline\n",
    "animator = Animation(x_true,u_true,*vehicle_dims);\n",
    "HTML(animator.build(ts).to_jshtml())"
   ]
  },
  {
   "cell_type": "markdown",
   "metadata": {
    "id": "zrXGJfzsQ0xB"
   },
   "source": [
    "## Extension: obstacle avoidance \n",
    "\n",
    "We can now repeat the previous example, but now extending it to a more interesting/realistic scenario. Suppose that \n",
    "we have a number of obstacles in the scene, which we represent by a location $o = (o_x, o_y)$ and a size $r$.\n",
    "\n",
    "#### 🔧 Task: write down the collision avoidance constraint \n",
    "\n",
    "Given an circular obstacle with position $o = (o_x, o_y)$ and size $r$; write down the condition on the position such that for all heading angles $\\theta$, \n",
    "the vehicle (of length $l$ and width $w$) does not intersect with the obstacle. \n",
    "\n",
    "Is the corresponding constraint convex or not?"
   ]
  },
  {
   "cell_type": "markdown",
   "metadata": {
    "id": "Z4TZcJH5Q0xB"
   },
   "source": [
    "#### 🔧 Task: Reimplement `construct_ocp` with collision avoidance constraints \n",
    "\n",
    "Implement a function to build a parametric optimizer like before, but now supporting collision avoidance constraints. \n",
    "Based on the argument `n_obstacles`, introduce a parameter vector containing all the positions $o_{i,x}, o_{i,y}$ of the obstacles $i = 1, \\dots,n_o$ , and their radii $r_{i}$. That is, \n",
    "the parameter vector is of the form \n",
    "$$\n",
    "    p = \\begin{bmatrix}\n",
    "        x_0 \\\\\n",
    "        o_{1,x}\\\\\n",
    "        o_{1,y}\\\\\n",
    "        o_{2,x}\\\\\n",
    "        o_{3,y}\\\\\n",
    "        \\vdots \\\\\n",
    "        o_{n_o,x}\\\\\n",
    "        o_{n_o,y}\\\\\n",
    "        r_{1}\\\\ \n",
    "        \\vdots \\\\ \n",
    "        r_{n_o}\n",
    "    \\end{bmatrix}\n",
    "$$\n",
    "\n",
    "\n"
   ]
  },
  {
   "cell_type": "code",
   "execution_count": null,
   "metadata": {},
   "outputs": [],
   "source": [
    "from typing import Tuple \n",
    "\n",
    "def construct_ocp_constrained(horizon: int, n_obstacles: int) -> Tuple[dict, dict]:\n",
    "    \"\"\"\n",
    "    Given the prediction horizon, build a CasADi nlp object that represents the parametric optimization problem described above, with the initial state x as a parameter. \n",
    "    Use a single shooting formulation, i.e., do not define a new decision variable for the states, but rather write them as functions of the initial state and the \n",
    "    control variables. Also return the lower bound and upper bound on the decision variables and constraint functions: \n",
    "\n",
    "    Args: \n",
    "        horizon [int]: decision horizon  \n",
    "        n_obstacles [int]: number of obstacles in the scene\n",
    "    Returns: \n",
    "        solver [dict]: the nonlinear program as a dictionary: \n",
    "            {\"f\": [cs.Expression] cost (as a function of the decision variables, built as an expression, e.g., x + y, where x and y are CasADi SX.sym objects),\n",
    "             \"g\": [cs.Expression] nonlinear constraint function as \n",
    "             an expression of the variables and the parameters. \n",
    "             The constraints are both the original state bounds and \n",
    "             the collision avoidance constraints. \n",
    "             \"x\": [cs.SX] decision_vars (all control actions over the prediction horizon (concatenated into a long vector)),\n",
    "             \"p\": [cs.SX] parameters (initial state vector, obstacle positions, obstacle radii) concatenated into one column vector} \n",
    "        bounds [dict]: the bounds on the constraints \n",
    "            {\"lbx\": [np.ndarray] Lower bounds on the decision variables, \n",
    "             \"ubx\": [np.ndarray] Upper bounds on the decision variables, \n",
    "             \"lbg\": [np.ndarray] Lower bounds on the nonlinear constraint g, \n",
    "             \"ubg\": [np.ndarray] Upper bounds on the nonlinear constraint g \n",
    "            }\n",
    "    \"\"\"\n",
    "\n",
    "    #TODO: Define variables and parameters. \n",
    "    \n",
    "\n",
    "    # TODO: Initialize the cost at zero and define the cost weights  \n",
    "    # state weights matrix\n",
    "    \n",
    "    # TODO: controls weights matrix\n",
    "    \n",
    "    # TODO: Define the bounds for every time step \n",
    "    # -- State bounds\n",
    "    \n",
    "    # -- Input bounds \n",
    "    \n",
    "    # Initialize containers for the constraints and constraint bounds \n",
    "    lbx = []\n",
    "    ubx = []\n",
    "    g = [] \n",
    "    lbg = []\n",
    "    ubg = []\n",
    "\n",
    "    # Initialize the current state to the initial value\n",
    "    x = x0\n",
    "    # TODO: Rollout the simulation horizon, accumulating costs and constraints \n",
    "    for i in range(horizon):\n",
    "        # TODO: update cost\n",
    "        \n",
    "        # TODO: Update the state \n",
    "        \n",
    "        # Bound the controls \n",
    "        \n",
    "        # Bound the states  \n",
    "        \n",
    "        # [NEW] Impose collision avoidance \n",
    "        \n",
    "\n",
    "    #TODO Add terminal costs/constraints \n",
    "    \n",
    "    \n",
    "    # Concatenate the variables and constraints, and package the problem into dicts \n",
    "    variables = cs.vertcat(*u)\n",
    "    parameters = cs.vertcat(x0, *obs_pos, *obs_r)\n",
    "    nlp = {\"f\": cost,\n",
    "           \"x\": variables,\n",
    "           \"g\": cs.vertcat(*g),\n",
    "           \"p\": parameters}\n",
    "    bounds = {\"lbx\": cs.vertcat(*lbx), \n",
    "              \"ubx\": cs.vertcat(*ubx), \n",
    "              \"lbg\": cs.vertcat(*lbg), \n",
    "              \"ubg\": cs.vertcat(*ubg), \n",
    "            }\n",
    "    return nlp, bounds"
   ]
  },
  {
   "cell_type": "markdown",
   "metadata": {
    "id": "6V-tRvuoQ0xC"
   },
   "source": [
    "### Obstacle settings \n",
    "\n",
    "We introduce two obstacles that need to be avoided during the maneuver. "
   ]
  },
  {
   "cell_type": "code",
   "execution_count": null,
   "metadata": {
    "id": "f3sHM75qQ0xC"
   },
   "outputs": [],
   "source": [
    "obstacle_pos = [np.array([[-15,4]]).T, np.array([[-5,-8]]).T]  # positions \n",
    "obstacle_rad = [3,5]                                           # sizes \n",
    "num_obstacles = len(obstacle_pos)\n",
    "# Combine into parameter vector\n",
    "if num_obstacles > 0:\n",
    "    params_obst = np.vstack(obstacle_pos + obstacle_rad)  \n",
    "else: \n",
    "    params_obst = [] "
   ]
  },
  {
   "cell_type": "markdown",
   "metadata": {
    "id": "-Fqsl8p3Q0xC"
   },
   "source": [
    "#### 🔧 Task: Simulate open loop trajectory with model errors\n",
    "\n",
    "Like before, but now with the constrained problem, simulate the solution under the model dynamics (forward Euler) and the true dynamics (using the given function `true_dynamics` with  scipy `odeint` for integration).\n",
    "\n",
    "❓What do you observe? Are the obstacles correctly avoided for the true dynamics?"
   ]
  },
  {
   "cell_type": "code",
   "execution_count": null,
   "metadata": {
    "id": "O2TdsqGvQ0xC",
    "outputId": "6c1bc6ef-0755-452d-8c8c-6b06cb361d21"
   },
   "outputs": [],
   "source": [
    "from utilities import compile_ocp\n",
    "x_init = np.array([[-20, -5, 0, 0]]).T\n",
    "horizon = 60\n",
    "\n",
    "# Define the problem \n",
    "nlp_description, bounds = construct_ocp_constrained(horizon, num_obstacles)\n",
    "# Compile the OCP\n",
    "problem = compile_ocp(nlp_description, bounds)\n",
    "if num_obstacles > 0: \n",
    "    params = np.vstack([x_init, params_obst])\n",
    "else: \n",
    "    params = x_init \n",
    "\n",
    "problem.param = params"
   ]
  },
  {
   "cell_type": "code",
   "execution_count": null,
   "metadata": {},
   "outputs": [],
   "source": [
    "# Instantiate a solver. This time, we can increase the number of iterations etc. a bit to account for the larger horizon. \n",
    "solver = get_ALM_solver(max_iter=50, max_time_seconds=60)"
   ]
  },
  {
   "cell_type": "markdown",
   "metadata": {},
   "source": [
    "2. Set the problem parameters and call the solver to obtain a solution"
   ]
  },
  {
   "cell_type": "code",
   "execution_count": null,
   "metadata": {},
   "outputs": [],
   "source": [
    "initial_guess_primal = np.zeros((problem.n,))\n",
    "initial_guess_dual = np.zeros((problem.m,))\n",
    "\n",
    "_, u_sequence, stats = solver(problem, initial_guess_dual, initial_guess_primal)\n",
    "utilities.print_solver_stats(stats)\n",
    "u_sequence = u_sequence.reshape((2,-1), order=\"f\")         # Extract the control sequence back from the solution\n"
   ]
  },
  {
   "cell_type": "markdown",
   "metadata": {},
   "source": [
    "3. Define the open-loop policy and simulate it on the model system and the true system"
   ]
  },
  {
   "cell_type": "code",
   "execution_count": null,
   "metadata": {},
   "outputs": [],
   "source": [
    "def policy(x,t):  # Write the solution as a function of time \n",
    "    return u_sequence[:,t]  # At time t, use the t'th element in the sequence \n",
    "\n",
    "n_steps = u_sequence.shape[1]                 # We can only simulate forward as many steps as we have predicted in the MPC problem. \n",
    "x_predicted, _ = simulate(x0=x_init, dynamics=dynamics_fw_euler, policy=policy, time_steps=n_steps)\n",
    "\n",
    "# Compare against a simulation with the true dynamics\n",
    "x_true, _ = simulate(x0=x_init, dynamics=true_system, policy=policy, time_steps=n_steps)\n"
   ]
  },
  {
   "cell_type": "markdown",
   "metadata": {},
   "source": [
    "4. Plot the results"
   ]
  },
  {
   "cell_type": "code",
   "execution_count": null,
   "metadata": {},
   "outputs": [],
   "source": [
    "plt.figure() \n",
    "plot_input_sequence(u_sequence)\n",
    "\n",
    "plt.figure()\n",
    "\n",
    "def draw_scene(): \n",
    "    ax = plt.gca()\n",
    "    ax.axis(\"square\")\n",
    "\n",
    "    for o_p, o_r in zip(obstacle_pos, obstacle_rad):\n",
    "        c1 = plt.Circle(o_p, radius=o_r, ec=\"k\", fc=\"red\", alpha=0.5)\n",
    "        c2 = plt.Circle(o_p, radius=o_r+0.5*np.sqrt(VEHICLE_LENGTH**2+VEHICLE_WIDTH**2), ec=\"k\", fc=(0,0,0,0), linestyle=\"--\")\n",
    "        ax.add_artist(c1)\n",
    "        ax.add_artist(c2)\n",
    "    ax.scatter([0], [0], color=\"tab:green\", marker=\"X\")\n",
    "    plt.xlim([-40, 10])\n",
    "    plt.ylim([-10, 5])\n",
    "\n",
    "draw_scene()\n",
    "plt.plot(x_predicted[0,:], x_predicted[1,:], label=\"predicted trajectory\") \n",
    "plt.plot(x_true[0,:], x_true[1,:], label=\"True trajectory\")\n",
    "plt.legend(bbox_to_anchor=(1,1), loc=\"upper left\")\n",
    "plt.xlabel(\"$p_x$\")\n",
    "plt.ylabel(\"$p_y$\"); \n"
   ]
  },
  {
   "cell_type": "markdown",
   "metadata": {
    "id": "g2AGti2AQ0xD"
   },
   "source": [
    "### MPC with obstacle avoidance \n",
    "\n",
    "To reduce the computation, we reduce the prediction horizon again to 20 steps. Now, define the policy that solves the optimal control problem in receding horizon. Compare again the performance on the model dynamics with the forward Euler integrator to the performance on the true system. \n"
   ]
  },
  {
   "cell_type": "code",
   "execution_count": 9,
   "metadata": {
    "id": "QDNlk0ICQ0xD"
   },
   "outputs": [
    {
     "ename": "NameError",
     "evalue": "name 'construct_ocp_constrained' is not defined",
     "output_type": "error",
     "traceback": [
      "\u001b[0;31m---------------------------------------------------------------------------\u001b[0m",
      "\u001b[0;31mNameError\u001b[0m                                 Traceback (most recent call last)",
      "\u001b[0;32m/tmp/ipykernel_94110/3953354039.py\u001b[0m in \u001b[0;36m<module>\u001b[0;34m\u001b[0m\n\u001b[1;32m      1\u001b[0m \u001b[0mhorizon\u001b[0m \u001b[0;34m=\u001b[0m \u001b[0;36m20\u001b[0m\u001b[0;34m\u001b[0m\u001b[0;34m\u001b[0m\u001b[0m\n\u001b[0;32m----> 2\u001b[0;31m \u001b[0mocp\u001b[0m\u001b[0;34m,\u001b[0m \u001b[0mbounds\u001b[0m \u001b[0;34m=\u001b[0m \u001b[0mconstruct_ocp_constrained\u001b[0m\u001b[0;34m(\u001b[0m\u001b[0mhorizon\u001b[0m\u001b[0;34m,\u001b[0m \u001b[0mnum_obstacles\u001b[0m\u001b[0;34m)\u001b[0m\u001b[0;34m\u001b[0m\u001b[0;34m\u001b[0m\u001b[0m\n\u001b[0m\u001b[1;32m      3\u001b[0m \u001b[0mproblem\u001b[0m \u001b[0;34m=\u001b[0m \u001b[0mcompile_ocp\u001b[0m\u001b[0;34m(\u001b[0m\u001b[0mocp\u001b[0m\u001b[0;34m,\u001b[0m \u001b[0mbounds\u001b[0m\u001b[0;34m)\u001b[0m\u001b[0;34m\u001b[0m\u001b[0;34m\u001b[0m\u001b[0m\n\u001b[1;32m      4\u001b[0m \u001b[0;34m\u001b[0m\u001b[0m\n\u001b[1;32m      5\u001b[0m \u001b[0;31m# Don't forget to add the obstacle information as parameters!\u001b[0m\u001b[0;34m\u001b[0m\u001b[0;34m\u001b[0m\u001b[0;34m\u001b[0m\u001b[0m\n",
      "\u001b[0;31mNameError\u001b[0m: name 'construct_ocp_constrained' is not defined"
     ]
    }
   ],
   "source": [
    "horizon = 20\n",
    "ocp, bounds = construct_ocp_constrained(horizon, num_obstacles)\n",
    "problem = compile_ocp(ocp, bounds)\n",
    "\n",
    "# Don't forget to add the obstacle information as parameters!\n",
    "if num_obstacles > 0: \n",
    "    params = np.vstack([x_init, params_obst])\n",
    "else: \n",
    "    params = x_init \n",
    "problem.param = params"
   ]
  },
  {
   "cell_type": "code",
   "execution_count": null,
   "metadata": {},
   "outputs": [],
   "source": [
    "# Instantiate a solver \n",
    "solver = get_ALM_solver()\n",
    "# Define the MPC policy.\n",
    "pol = WarmStartedPolicy(solver, problem) \n",
    "\n",
    "def policy(x,t): \n",
    "    u = pol(x,t)\n",
    "    return u \n",
    "\n",
    "# policy = ipopt_policy\n"
   ]
  },
  {
   "cell_type": "code",
   "execution_count": null,
   "metadata": {
    "id": "AWf2pBVVQ0xD",
    "tags": []
   },
   "outputs": [],
   "source": [
    "n_steps = 150\n",
    "\n",
    "x_simplified, u_simplified = simulate(x0=x_init, dynamics=dynamics_fw_euler, policy=policy, time_steps=n_steps)\n",
    "x_true, u_true = simulate(x0=x_init, dynamics=true_system, policy=policy, time_steps=n_steps)"
   ]
  },
  {
   "cell_type": "code",
   "execution_count": null,
   "metadata": {
    "id": "U7_FUDVvQ0xD",
    "outputId": "740eeebe-955b-44cb-a750-57787a2454f3"
   },
   "outputs": [],
   "source": [
    "u_true = u_true.reshape((2,-1), order=\"F\")\n",
    "plt.figure() \n",
    "plot_input_sequence(u_true)\n",
    "\n",
    "plt.figure()\n",
    "\n",
    "draw_scene() \n",
    "\n",
    "plt.plot(x_simplified[0,:], x_simplified[1,:], label=\"MPC trajectory with model dynamics\") \n",
    "plt.plot(x_true[0,:], x_true[1,:], label=\"MPC trajectory with true dynamics\")\n",
    "\n",
    "plt.legend(bbox_to_anchor=(1,1), loc=\"upper left\")\n",
    "plt.xlabel(\"$p_x$\")\n",
    "plt.ylabel(\"$p_y$\");"
   ]
  },
  {
   "cell_type": "code",
   "execution_count": null,
   "metadata": {
    "id": "gyvl6R4rQ0xE",
    "outputId": "3a6015e7-b83a-4ea8-99ca-84c0089b6f55",
    "scrolled": true
   },
   "outputs": [],
   "source": [
    "from utilities import Animation \n",
    "from IPython.display import HTML\n",
    "\n",
    "animator = Animation(x_true, u_true, *vehicle_dims)\n",
    "for o_p, o_r in zip(obstacle_pos, obstacle_rad):\n",
    "    c1 = plt.Circle(o_p, radius=o_r, ec=\"k\", fc=\"red\", alpha=0.5)\n",
    "    c2 = plt.Circle(o_p, radius=o_r+1/2*np.sqrt(VEHICLE_LENGTH**2+VEHICLE_WIDTH**2), ec=\"k\", fc=(0,0,0,0), linestyle=\"--\")\n",
    "    animator.ax.add_artist(c1)\n",
    "    animator.ax.add_artist(c2)\n",
    "\n",
    "HTML(animator.build(ts).to_jshtml())"
   ]
  },
  {
   "cell_type": "code",
   "execution_count": null,
   "metadata": {},
   "outputs": [],
   "source": []
  },
  {
   "cell_type": "code",
   "execution_count": null,
   "metadata": {},
   "outputs": [],
   "source": []
  }
 ],
 "metadata": {
  "colab": {
   "collapsed_sections": [
    "UdGSz8B6Q0xB"
   ],
   "name": "demo_nonlinear_mpc.ipynb",
   "provenance": []
  },
  "interpreter": {
   "hash": "e03801b84353eed18ef4a11dc08af38c70f42a722ee33b26c0ae12bf015dac73"
  },
  "kernelspec": {
   "display_name": "Python 3 (ipykernel)",
   "language": "python",
   "name": "python3"
  },
  "language_info": {
   "codemirror_mode": {
    "name": "ipython",
    "version": 3
   },
   "file_extension": ".py",
   "mimetype": "text/x-python",
   "name": "python",
   "nbconvert_exporter": "python",
   "pygments_lexer": "ipython3",
   "version": "3.9.0"
  }
 },
 "nbformat": 4,
 "nbformat_minor": 2
}
